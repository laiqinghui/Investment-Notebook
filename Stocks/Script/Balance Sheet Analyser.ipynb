{
 "cells": [
  {
   "cell_type": "code",
   "execution_count": 2,
   "metadata": {},
   "outputs": [],
   "source": [
    "%matplotlib inline\n",
    "\n",
    "from glob import glob\n",
    "import pandas as pd\n",
    "import matplotlib.pyplot as plt\n",
    "from IPython.display import Javascript, display, HTML, Markdown as md\n",
    "from ipywidgets import interact, interactive, fixed, interact_manual\n",
    "import ipywidgets as widgets\n",
    "\n",
    "pd.set_option('display.float_format', lambda x: '%.3f' % x)"
   ]
  },
  {
   "cell_type": "markdown",
   "metadata": {},
   "source": [
    "## Start by selecting a company"
   ]
  },
  {
   "cell_type": "code",
   "execution_count": 1,
   "metadata": {},
   "outputs": [
    {
     "data": {
      "application/javascript": [
       "IPython.notebook.execute_cell_range(IPython.notebook.get_selected_index()+1, IPython.notebook.ncells())"
      ],
      "text/plain": [
       "<IPython.core.display.Javascript object>"
      ]
     },
     "metadata": {},
     "output_type": "display_data"
    },
    {
     "ename": "NameError",
     "evalue": "name 'glob' is not defined",
     "output_type": "error",
     "traceback": [
      "\u001b[1;31m---------------------------------------------------------------------------\u001b[0m",
      "\u001b[1;31mNameError\u001b[0m                                 Traceback (most recent call last)",
      "\u001b[1;32m<ipython-input-1-4e9401598e16>\u001b[0m in \u001b[0;36m<module>\u001b[1;34m\u001b[0m\n\u001b[1;32m----> 1\u001b[1;33m \u001b[0mwatchlist\u001b[0m \u001b[1;33m=\u001b[0m \u001b[1;33m[\u001b[0m\u001b[0mx\u001b[0m\u001b[1;33m[\u001b[0m\u001b[0mx\u001b[0m\u001b[1;33m.\u001b[0m\u001b[0mfind\u001b[0m\u001b[1;33m(\u001b[0m\u001b[1;34m\"\\\\\"\u001b[0m\u001b[1;33m)\u001b[0m\u001b[1;33m+\u001b[0m\u001b[1;36m1\u001b[0m\u001b[1;33m:\u001b[0m\u001b[1;33m]\u001b[0m \u001b[1;32mfor\u001b[0m \u001b[0mx\u001b[0m \u001b[1;32min\u001b[0m  \u001b[0mglob\u001b[0m\u001b[1;33m(\u001b[0m\u001b[1;34m\"../data/*\"\u001b[0m\u001b[1;33m)\u001b[0m\u001b[1;33m]\u001b[0m\u001b[1;33m\u001b[0m\u001b[0m\n\u001b[0m\u001b[0;32m      2\u001b[0m \u001b[1;33m\u001b[0m\u001b[0m\n\u001b[0;32m      3\u001b[0m \u001b[1;31m# Default\u001b[0m\u001b[1;33m\u001b[0m\u001b[1;33m\u001b[0m\u001b[0m\n\u001b[0;32m      4\u001b[0m \u001b[0mstock\u001b[0m \u001b[1;33m=\u001b[0m \u001b[0mwatchlist\u001b[0m\u001b[1;33m[\u001b[0m\u001b[1;36m0\u001b[0m\u001b[1;33m]\u001b[0m\u001b[1;33m\u001b[0m\u001b[0m\n\u001b[0;32m      5\u001b[0m \u001b[1;33m\u001b[0m\u001b[0m\n",
      "\u001b[1;31mNameError\u001b[0m: name 'glob' is not defined"
     ]
    }
   ],
   "source": [
    "watchlist = [x[x.find(\"\\\\\")+1:] for x in  glob(\"../data/*\")]\n",
    "\n",
    "# Default\n",
    "stock = watchlist[0]\n",
    "\n",
    "dropdown = widgets.Dropdown(options = watchlist)\n",
    "\n",
    "\n",
    "def dropdown_eventhandler(change):\n",
    "    global stock \n",
    "    stock = change.new\n",
    "    display(Javascript('IPython.notebook.execute_cell_range(IPython.notebook.get_selected_index()+1, IPython.notebook.ncells())'))\n",
    "    \n",
    "dropdown.observe(dropdown_eventhandler, names='value')\n",
    "\n",
    "display(dropdown)"
   ]
  },
  {
   "cell_type": "code",
   "execution_count": null,
   "metadata": {
    "scrolled": true
   },
   "outputs": [],
   "source": [
    "md(\"## Balance Sheet of {}\".format(stock))"
   ]
  },
  {
   "cell_type": "code",
   "execution_count": null,
   "metadata": {},
   "outputs": [],
   "source": [
    "# Read data from Morningstar and set metrics as index\n",
    "income = pd.read_excel(\"../data/\" + stock + \"/Income Statement_Annual_As Originally Reported.xls\",  index_col=0)\n",
    "balance = pd.read_excel(\"../data/\" + stock + \"/Balance Sheet_Annual_As Originally Reported.xls\",  index_col=0)\n",
    "balance"
   ]
  },
  {
   "cell_type": "markdown",
   "metadata": {},
   "source": [
    "## Cleaning of data"
   ]
  },
  {
   "cell_type": "code",
   "execution_count": null,
   "metadata": {},
   "outputs": [],
   "source": [
    "# Remove whitespaces\n",
    "balance.index = balance.index.str.strip()\n",
    "# Transpose df to make metrics as columns\n",
    "balance = balance.T\n",
    "# Remove commas and convert str to float for all cols\n",
    "balance[balance.keys()] = balance[balance.keys()].replace({',': ''}, regex=True).astype(float)/1000000\n",
    "# Reorder the rows to be ascending downwards\n",
    "balance = balance.sort_index()\n"
   ]
  },
  {
   "cell_type": "markdown",
   "metadata": {},
   "source": [
    "## Balance Sheet Basics\n",
    "\n",
    "Assets = Liabilities + Shareholder Equity"
   ]
  },
  {
   "cell_type": "markdown",
   "metadata": {},
   "source": [
    "## Assets\n",
    "\n",
    "\n",
    "Within the **Assets** category, it is split into current assets and non-current assets.\n",
    "\n",
    "**Current assets** are short-term assets that can be converted to cash within 12 months: \n",
    "\n",
    "1) Cash & Cash Equivalents/Marketable securities\n",
    "\n",
    " - Low-risk investments such as short-term government bonds or fixed deposits\n",
    "\n",
    "2) Account Receivables \n",
    "\n",
    " - Sales that you have made but have not collected cash yet. (Paid in credit)\n",
    "\n",
    "3) Inventories\n",
    "\n",
    " - Raw materials that are purchased but have not been sold to the customers yet\n",
    " - Connected to the *Cost of Goods Sold* in the income statement.\n",
    " - Too little: Can't meet demand, Too much: Incurred opportunity cost\n",
    " - Increasing inventory in the balance sheet might means the goods are stuck in the warehouse and no sales are being made\n",
    " \n",
    "\n",
    "Note: *Revenue* in Income Statement is sum of Cash & Cash Equivalents and Account Receivables\n",
    "\n",
    "\n",
    "\n",
    "**Non-current** assets are long-term assets that can’t be converted to cash within 12 months:\n",
    "\n",
    "1) Property, Plant & Equipment (PPE)\n",
    " \n",
    " - Assets that last for 10 or 20 years such as ands, factories, plants, and machineries\n",
    " - Linked to the Income Statement by *Depreciation Expense*\n",
    "\n",
    "\n",
    "\n"
   ]
  },
  {
   "cell_type": "code",
   "execution_count": null,
   "metadata": {},
   "outputs": [],
   "source": [
    "fig, axs = plt.subplots(1, 3)\n",
    "fig.set_size_inches(25.5, 7.5)\n",
    "\n",
    "balance[['Total Assets', 'Total Current Assets', 'Total Non-Current Assets']].plot.bar(ax=axs[0])\n",
    "axs[0].set_title('Assets');\n",
    "axs[0].set_ylabel(\"In SGD Million\");\n",
    "\n",
    "balance[['Cash, Cash Equivalents and Short Term Investments', 'Trade and Other Receivables, Current', 'Inventories']].plot.bar(ax=axs[1])\n",
    "axs[1].set_title('Key Current Assets');\n",
    "axs[1].set_ylabel(\"In SGD Million\");\n",
    "\n",
    "nppe = (balance['Net Property, Plant and Equipment']/balance['Total Non-Current Assets'])*100\n",
    "nia = (balance['Net Intangible Assets']/balance['Total Non-Current Assets'])*100\n",
    "tlti = (balance['Total Long Term Investments']/balance['Total Non-Current Assets'])*100\n",
    "\n",
    "balance[['Net Property, Plant and Equipment', 'Net Intangible Assets', 'Total Long Term Investments']].plot.bar(ax=axs[2])\n",
    "axs[2].set_title('Key Non-Current Assets');\n",
    "axs[2].set_ylabel(\"In SGD Million\");\n"
   ]
  },
  {
   "cell_type": "markdown",
   "metadata": {},
   "source": [
    "## Liabilities"
   ]
  },
  {
   "cell_type": "markdown",
   "metadata": {},
   "source": [
    "Within the **Liabilities** category, it is split between current liabilities and non-current liabilities.\n",
    "\n",
    "**Current liabilities** are short-term liabilities that are expected to be paid off within 12 months:\n",
    "\n",
    "1) Short-term Debt\n",
    "\n",
    " - Debt to be paid off within 12 months\n",
    " - Used to finance short-term needs\n",
    "\n",
    "2) Accounts Payable\n",
    "\n",
    " - Opposite of *Account Receivables* \n",
    " - Increasing amount might means company is purchasing *Inventories*, however, if *Inventories* remain unchanged but *Account Payable* is increasing. It might mean that company is short of cash and they are delaying payments.\n",
    " \n",
    "**Non-current liabilities** are long-term debts that take more than 12 months to be paid off:\n",
    " \n",
    "1) Long-term Debt\n",
    " \n",
    "- Debt that can be cleared > 12 months\n",
    "- Used to finance long-term assets. E.g. *Plants, Property & Equipment (PPEs)*"
   ]
  },
  {
   "cell_type": "code",
   "execution_count": null,
   "metadata": {},
   "outputs": [],
   "source": [
    "fig, axs = plt.subplots(1, 3)\n",
    "fig.set_size_inches(25.5, 7.5)\n",
    "\n",
    "balance[['Total Liabilities', 'Total Current Liabilities', 'Total Non-Current Liabilities']].plot.bar(ax=axs[0])\n",
    "axs[0].set_title('Liabilities');\n",
    "axs[0].set_ylabel(\"In SGD Million\");\n",
    "\n",
    "balance[['Financial Liabilities, Current', 'Payables and Accrued Expenses, Current']].plot.bar(ax=axs[1])\n",
    "axs[1].set_title('Current Liabilities');\n",
    "axs[1].set_ylabel(\"In SGD Million\");\n",
    "\n",
    "balance[['Financial Liabilities, Non-Current', 'Tax Liabilities, Non-Current', 'Other Non-Current Liabilities']].plot.bar(ax=axs[2])\n",
    "axs[2].set_title('Non-Current Liabilities');\n",
    "axs[2].set_ylabel(\"In SGD Million\");"
   ]
  },
  {
   "cell_type": "markdown",
   "metadata": {},
   "source": [
    "## Shareholders’ Equity\n"
   ]
  },
  {
   "cell_type": "code",
   "execution_count": null,
   "metadata": {
    "scrolled": true
   },
   "outputs": [],
   "source": [
    "balance['Total Equity'].plot()\n",
    "plt.title('Total Equity');\n",
    "plt.ylabel(\"In SGD Million\");"
   ]
  },
  {
   "cell_type": "markdown",
   "metadata": {},
   "source": [
    "## Liquitity Ratios \n",
    "\n",
    "1) Current Ratio\n",
    " - *Current Assets* divided by *Current Liabilities*\n",
    " - Must be > 1 \n",
    " - < 1 means *Current Liabilities* are higher than *Current Assets*\n",
    " \n",
    "2) Quick Ratio (Acid-Test)\n",
    " - *Current Assets* minus *Inventories* divided by *Current Liabilities*\n",
    " - Exclude *Inventories* as it may take time to sell off thus affect cash flow\n",
    " \n",
    "3) Cash Ratio \n",
    " - *Cash & Cash Equivalents/Marketable securities* divided by *Current Liabilities*\n",
    " - Cash is the most liquid assets, *Account Receivables* takes time to get back\n",
    " - Strictest out of all, testing the worse case scenario"
   ]
  },
  {
   "cell_type": "code",
   "execution_count": null,
   "metadata": {},
   "outputs": [],
   "source": [
    "current = balance['Total Current Assets']/balance['Total Current Liabilities']\n",
    "quick = (balance['Total Current Assets'] - balance['Inventories'])/balance['Total Current Liabilities']\n",
    "cash = balance['Cash, Cash Equivalents and Short Term Investments']/balance['Total Current Liabilities']\n",
    "\n",
    "lratios = pd.DataFrame({'Current Ratio': current, 'Quick Ratio': quick, 'Cash Ratio': cash})\n",
    "lratios.plot()\n",
    "plt.title('Liquitity Ratios ');"
   ]
  },
  {
   "cell_type": "code",
   "execution_count": null,
   "metadata": {},
   "outputs": [],
   "source": []
  },
  {
   "cell_type": "code",
   "execution_count": null,
   "metadata": {},
   "outputs": [],
   "source": []
  }
 ],
 "metadata": {
  "kernelspec": {
   "display_name": "Python 3",
   "language": "python",
   "name": "python3"
  },
  "language_info": {
   "codemirror_mode": {
    "name": "ipython",
    "version": 3
   },
   "file_extension": ".py",
   "mimetype": "text/x-python",
   "name": "python",
   "nbconvert_exporter": "python",
   "pygments_lexer": "ipython3",
   "version": "3.6.1"
  }
 },
 "nbformat": 4,
 "nbformat_minor": 4
}
