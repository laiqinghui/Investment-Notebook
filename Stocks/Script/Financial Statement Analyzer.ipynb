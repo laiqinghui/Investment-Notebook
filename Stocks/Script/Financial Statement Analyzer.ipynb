{
  "nbformat": 4,
  "nbformat_minor": 0,
  "metadata": {
    "colab": {
      "name": "Financial Statement Analyzer-checkpoint.ipynb",
      "provenance": []
    },
    "kernelspec": {
      "name": "python3",
      "display_name": "Python 3"
    },
    "widgets": {
      "application/vnd.jupyter.widget-state+json": {
        "2fb7597589d74a3e864684f4a6a1ec2f": {
          "model_module": "@jupyter-widgets/controls",
          "model_name": "DropdownModel",
          "state": {
            "_options_labels": [
              "Singapore Telecommunications Limited (Z74.SI)",
              "ComfortDelGro Corporation Limited (C52.SI)",
              "SATS Ltd. (S58.SI)",
              "Singapore Airlines Limited (C6L.SI)",
              "DBS Group Holdings Ltd (D05.SI)"
            ],
            "_view_name": "DropdownView",
            "style": "IPY_MODEL_0d213c49c6934cd2aaa276aa36c34d4b",
            "_dom_classes": [],
            "description": "",
            "_model_name": "DropdownModel",
            "index": 0,
            "_view_module": "@jupyter-widgets/controls",
            "_model_module_version": "1.5.0",
            "_view_count": null,
            "disabled": false,
            "_view_module_version": "1.5.0",
            "description_tooltip": null,
            "_model_module": "@jupyter-widgets/controls",
            "layout": "IPY_MODEL_2f5a1fe45818486b80df451c4ae0b5af"
          }
        },
        "0d213c49c6934cd2aaa276aa36c34d4b": {
          "model_module": "@jupyter-widgets/controls",
          "model_name": "DescriptionStyleModel",
          "state": {
            "_view_name": "StyleView",
            "_model_name": "DescriptionStyleModel",
            "description_width": "",
            "_view_module": "@jupyter-widgets/base",
            "_model_module_version": "1.5.0",
            "_view_count": null,
            "_view_module_version": "1.2.0",
            "_model_module": "@jupyter-widgets/controls"
          }
        },
        "2f5a1fe45818486b80df451c4ae0b5af": {
          "model_module": "@jupyter-widgets/base",
          "model_name": "LayoutModel",
          "state": {
            "_view_name": "LayoutView",
            "grid_template_rows": null,
            "right": null,
            "justify_content": null,
            "_view_module": "@jupyter-widgets/base",
            "overflow": null,
            "_model_module_version": "1.2.0",
            "_view_count": null,
            "flex_flow": null,
            "width": null,
            "min_width": null,
            "border": null,
            "align_items": null,
            "bottom": null,
            "_model_module": "@jupyter-widgets/base",
            "top": null,
            "grid_column": null,
            "overflow_y": null,
            "overflow_x": null,
            "grid_auto_flow": null,
            "grid_area": null,
            "grid_template_columns": null,
            "flex": null,
            "_model_name": "LayoutModel",
            "justify_items": null,
            "grid_row": null,
            "max_height": null,
            "align_content": null,
            "visibility": null,
            "align_self": null,
            "height": null,
            "min_height": null,
            "padding": null,
            "grid_auto_rows": null,
            "grid_gap": null,
            "max_width": null,
            "order": null,
            "_view_module_version": "1.2.0",
            "grid_template_areas": null,
            "object_position": null,
            "object_fit": null,
            "grid_auto_columns": null,
            "margin": null,
            "display": null,
            "left": null
          }
        }
      }
    }
  },
  "cells": [
    {
      "cell_type": "code",
      "metadata": {
        "id": "7lNNO1SGi4X0",
        "colab_type": "code",
        "colab": {}
      },
      "source": [
        "!mkdir dataset\n",
        "!cd dataset\n",
        "!git init\n",
        "!git remote add -f origin https://github.com/laiqinghui/Investment-Notebook.git\n",
        "!git config core.sparseCheckout true\n",
        "!echo \"Stocks/data\" >> .git/info/sparse-checkout\n",
        "!git pull origin master\n",
        "\n",
        "\n",
        "\n",
        "\n"
      ],
      "execution_count": 0,
      "outputs": []
    },
    {
      "cell_type": "code",
      "metadata": {
        "id": "orPGMj5Lq50D",
        "colab_type": "code",
        "colab": {}
      },
      "source": [
        "%matplotlib inline\n",
        "\n",
        "from glob import glob\n",
        "import pandas as pd\n",
        "import matplotlib.pyplot as plt\n",
        "from IPython.display import Javascript, display, HTML, Markdown as md\n",
        "from ipywidgets import interact, interactive, fixed, interact_manual\n",
        "import ipywidgets as widgets\n",
        "\n",
        "\n",
        "pd.set_option('display.float_format', lambda x: '%.3f' % x)\n",
        "\n",
        "watchlist = [x[x.find(\"data/\")+5:] for x in  glob(\"./Stocks/data/*\")]\n",
        "\n",
        "# Default\n",
        "stock = watchlist[0]\n"
      ],
      "execution_count": 0,
      "outputs": []
    },
    {
      "cell_type": "markdown",
      "metadata": {
        "id": "m6vTX-YBrvGf",
        "colab_type": "text"
      },
      "source": [
        "##Start by selecting a company"
      ]
    },
    {
      "cell_type": "code",
      "metadata": {
        "id": "2q9DD5cCrpP2",
        "colab_type": "code",
        "colab": {
          "base_uri": "https://localhost:8080/",
          "height": 49,
          "referenced_widgets": [
            "2fb7597589d74a3e864684f4a6a1ec2f",
            "0d213c49c6934cd2aaa276aa36c34d4b",
            "2f5a1fe45818486b80df451c4ae0b5af"
          ]
        },
        "outputId": "8d67c34f-1779-453c-f8cc-7bbde8680640"
      },
      "source": [
        "dropdown = widgets.Dropdown(options = watchlist);\n",
        "\n",
        "def dropdown_eventhandler(change):\n",
        "    global stock \n",
        "    stock = change.new\n",
        "    display(Javascript('IPython.notebook.execute_cell_range(IPython.notebook.get_selected_index()+1, IPython.notebook.ncells())'))\n",
        "    \n",
        "dropdown.observe(dropdown_eventhandler, names='value')\n",
        "\n",
        "display(dropdown)\n"
      ],
      "execution_count": 44,
      "outputs": [
        {
          "output_type": "display_data",
          "data": {
            "application/vnd.jupyter.widget-view+json": {
              "model_id": "2fb7597589d74a3e864684f4a6a1ec2f",
              "version_minor": 0,
              "version_major": 2
            },
            "text/plain": [
              "Dropdown(options=('Singapore Telecommunications Limited (Z74.SI)', 'ComfortDelGro Corporation Limited (C52.SI)…"
            ]
          },
          "metadata": {
            "tags": []
          }
        }
      ]
    },
    {
      "cell_type": "markdown",
      "metadata": {
        "id": "BFVsepGB3i4b",
        "colab_type": "text"
      },
      "source": [
        "## Balance Sheet"
      ]
    },
    {
      "cell_type": "code",
      "metadata": {
        "id": "s7SbxMjw3sA5",
        "colab_type": "code",
        "colab": {
          "base_uri": "https://localhost:8080/",
          "height": 450
        },
        "outputId": "9ea9e274-6460-4673-cc2e-c078a972222f"
      },
      "source": [
        "# Read data from Morningstar and set metrics as index\n",
        "income = pd.read_excel(\"./Stocks/data/\" + stock + \"/Income Statement_Annual_As Originally Reported.xls\",  index_col=0)\n",
        "balance = pd.read_excel(\"./Stocks/data/\" + stock + \"/Balance Sheet_Annual_As Originally Reported.xls\",  index_col=0)\n",
        "balance"
      ],
      "execution_count": 45,
      "outputs": [
        {
          "output_type": "execute_result",
          "data": {
            "text/html": [
              "<div>\n",
              "<style scoped>\n",
              "    .dataframe tbody tr th:only-of-type {\n",
              "        vertical-align: middle;\n",
              "    }\n",
              "\n",
              "    .dataframe tbody tr th {\n",
              "        vertical-align: top;\n",
              "    }\n",
              "\n",
              "    .dataframe thead th {\n",
              "        text-align: right;\n",
              "    }\n",
              "</style>\n",
              "<table border=\"1\" class=\"dataframe\">\n",
              "  <thead>\n",
              "    <tr style=\"text-align: right;\">\n",
              "      <th></th>\n",
              "      <th>2019</th>\n",
              "      <th>2017</th>\n",
              "      <th>2016</th>\n",
              "      <th>2014</th>\n",
              "      <th>2012</th>\n",
              "    </tr>\n",
              "    <tr>\n",
              "      <th>Name</th>\n",
              "      <th></th>\n",
              "      <th></th>\n",
              "      <th></th>\n",
              "      <th></th>\n",
              "      <th></th>\n",
              "    </tr>\n",
              "  </thead>\n",
              "  <tbody>\n",
              "    <tr>\n",
              "      <th>Total Assets</th>\n",
              "      <td>2,408,429,000</td>\n",
              "      <td>2,279,402,000</td>\n",
              "      <td>2,105,706,000</td>\n",
              "      <td>2,019,789,000</td>\n",
              "      <td>2,122,520,000</td>\n",
              "    </tr>\n",
              "    <tr>\n",
              "      <th>Total Current Assets</th>\n",
              "      <td>710,245,000</td>\n",
              "      <td>856,512,000</td>\n",
              "      <td>829,637,000</td>\n",
              "      <td>724,568,000</td>\n",
              "      <td>831,229,000</td>\n",
              "    </tr>\n",
              "    <tr>\n",
              "      <th>Cash, Cash Equivalents and Short Term Investments</th>\n",
              "      <td>349,859,000</td>\n",
              "      <td>505,804,000</td>\n",
              "      <td>489,863,000</td>\n",
              "      <td>340,809,000</td>\n",
              "      <td>471,643,000</td>\n",
              "    </tr>\n",
              "    <tr>\n",
              "      <th>Cash and Cash Equivalents</th>\n",
              "      <td>349,859,000</td>\n",
              "      <td>505,804,000</td>\n",
              "      <td>489,863,000</td>\n",
              "      <td>340,809,000</td>\n",
              "      <td>471,643,000</td>\n",
              "    </tr>\n",
              "    <tr>\n",
              "      <th>Cash</th>\n",
              "      <td>119,461,000</td>\n",
              "      <td>111,826,000</td>\n",
              "      <td>104,426,000</td>\n",
              "      <td>145,786,000</td>\n",
              "      <td>NaN</td>\n",
              "    </tr>\n",
              "    <tr>\n",
              "      <th>...</th>\n",
              "      <td>...</td>\n",
              "      <td>...</td>\n",
              "      <td>...</td>\n",
              "      <td>...</td>\n",
              "      <td>...</td>\n",
              "    </tr>\n",
              "    <tr>\n",
              "      <th>Common Shares Issued</th>\n",
              "      <td>0</td>\n",
              "      <td>1,114,455,720</td>\n",
              "      <td>1,109,002,942</td>\n",
              "      <td>1,118,936,074</td>\n",
              "      <td>1,109,034,510</td>\n",
              "    </tr>\n",
              "    <tr>\n",
              "      <th>Common Shares Outstanding</th>\n",
              "      <td>0</td>\n",
              "      <td>1,114,455,720</td>\n",
              "      <td>1,109,002,942</td>\n",
              "      <td>1,118,936,074</td>\n",
              "      <td>1,109,034,510</td>\n",
              "    </tr>\n",
              "    <tr>\n",
              "      <th>Common Shares Treasury</th>\n",
              "      <td>0</td>\n",
              "      <td>114,887,460</td>\n",
              "      <td>90,319,998</td>\n",
              "      <td>30,721,206</td>\n",
              "      <td>0</td>\n",
              "    </tr>\n",
              "    <tr>\n",
              "      <th>Deferred Income/Customer Advances/Billings in Excess of Cost, Non-Current</th>\n",
              "      <td>NaN</td>\n",
              "      <td>NaN</td>\n",
              "      <td>NaN</td>\n",
              "      <td>NaN</td>\n",
              "      <td>0</td>\n",
              "    </tr>\n",
              "    <tr>\n",
              "      <th>Fiscal year ends in Mar 31 | SGD</th>\n",
              "      <td>NaN</td>\n",
              "      <td>NaN</td>\n",
              "      <td>NaN</td>\n",
              "      <td>NaN</td>\n",
              "      <td>NaN</td>\n",
              "    </tr>\n",
              "  </tbody>\n",
              "</table>\n",
              "<p>129 rows × 5 columns</p>\n",
              "</div>"
            ],
            "text/plain": [
              "                                                             2019  ...           2012\n",
              "Name                                                               ...               \n",
              "Total Assets                                        2,408,429,000  ...  2,122,520,000\n",
              "    Total Current Assets                              710,245,000  ...    831,229,000\n",
              "        Cash, Cash Equivalents and Short Term I...    349,859,000  ...    471,643,000\n",
              "            Cash and Cash Equivalents                 349,859,000  ...    471,643,000\n",
              "                Cash                                  119,461,000  ...            NaN\n",
              "...                                                           ...  ...            ...\n",
              "Common Shares Issued                                            0  ...  1,109,034,510\n",
              "    Common Shares Outstanding                                   0  ...  1,109,034,510\n",
              "    Common Shares Treasury                                      0  ...              0\n",
              "Deferred Income/Customer Advances/Billings in E...            NaN  ...              0\n",
              "Fiscal year ends in Mar 31 | SGD                              NaN  ...            NaN\n",
              "\n",
              "[129 rows x 5 columns]"
            ]
          },
          "metadata": {
            "tags": []
          },
          "execution_count": 45
        }
      ]
    },
    {
      "cell_type": "markdown",
      "metadata": {
        "id": "8m19aoyF4BK4",
        "colab_type": "text"
      },
      "source": [
        "##Cleaning of data"
      ]
    },
    {
      "cell_type": "code",
      "metadata": {
        "id": "dRNROYkk3_KW",
        "colab_type": "code",
        "colab": {}
      },
      "source": [
        "\n",
        "# Remove whitespaces\n",
        "balance.index = balance.index.str.strip()\n",
        "# Transpose df to make metrics as columns\n",
        "balance = balance.T\n",
        "# Remove commas and convert str to float for all cols\n",
        "balance[balance.keys()] = balance[balance.keys()].replace({',': ''}, regex=True).astype(float)/1000000\n",
        "# Reorder the rows to be ascending downwards\n",
        "balance = balance.sort_index()"
      ],
      "execution_count": 0,
      "outputs": []
    },
    {
      "cell_type": "markdown",
      "metadata": {
        "id": "pncNLZ364I02",
        "colab_type": "text"
      },
      "source": [
        "## Balance Sheet Basics"
      ]
    },
    {
      "cell_type": "markdown",
      "metadata": {
        "id": "kHjdedGd4Lkk",
        "colab_type": "text"
      },
      "source": [
        "## Assets\n",
        "\n",
        "\n",
        "Within the **Assets** category, it is split into current assets and non-current assets.\n",
        "\n",
        "**Current assets** are short-term assets that can be converted to cash within 12 months: \n",
        "\n",
        "1) Cash & Cash Equivalents/Marketable securities\n",
        "\n",
        " - Low-risk investments such as short-term government bonds or fixed deposits\n",
        "\n",
        "2) Account Receivables \n",
        "\n",
        " - Sales that you have made but have not collected cash yet. (Paid in credit)\n",
        "\n",
        "3) Inventories\n",
        "\n",
        " - Raw materials that are purchased but have not been sold to the customers yet\n",
        " - Connected to the *Cost of Goods Sold* in the income statement.\n",
        " - Too little: Can't meet demand, Too much: Incurred opportunity cost\n",
        " - Increasing inventory in the balance sheet might means the goods are stuck in the warehouse and no sales are being made\n",
        " \n",
        "\n",
        "Note: *Revenue* in Income Statement is sum of Cash & Cash Equivalents and Account Receivables\n",
        "\n",
        "\n",
        "\n",
        "**Non-current** assets are long-term assets that can’t be converted to cash within 12 months:\n",
        "\n",
        "1) Property, Plant & Equipment (PPE)\n",
        " \n",
        " - Assets that last for 10 or 20 years such as ands, factories, plants, and machineries\n",
        " - Linked to the Income Statement by *Depreciation Expense*\n"
      ]
    },
    {
      "cell_type": "code",
      "metadata": {
        "id": "llVxjASd4uwm",
        "colab_type": "code",
        "colab": {
          "base_uri": "https://localhost:8080/",
          "height": 487
        },
        "outputId": "5fe0465c-1b29-4094-ff9c-78f3d43216b2"
      },
      "source": [
        "fig, axs = plt.subplots(1, 3)\n",
        "fig.set_size_inches(25.5, 7.5)\n",
        "\n",
        "balance[['Total Assets', 'Total Current Assets', 'Total Non-Current Assets']].plot.bar(ax=axs[0])\n",
        "axs[0].set_title('Assets');\n",
        "axs[0].set_ylabel(\"In SGD Million\");\n",
        "\n",
        "balance[['Cash, Cash Equivalents and Short Term Investments', 'Trade and Other Receivables, Current', 'Inventories']].plot.bar(ax=axs[1])\n",
        "axs[1].set_title('Key Current Assets');\n",
        "axs[1].set_ylabel(\"In SGD Million\");\n",
        "\n",
        "nppe = (balance['Net Property, Plant and Equipment']/balance['Total Non-Current Assets'])*100\n",
        "nia = (balance['Net Intangible Assets']/balance['Total Non-Current Assets'])*100\n",
        "tlti = (balance['Total Long Term Investments']/balance['Total Non-Current Assets'])*100\n",
        "\n",
        "balance[['Net Property, Plant and Equipment', 'Net Intangible Assets', 'Total Long Term Investments']].plot.bar(ax=axs[2])\n",
        "axs[2].set_title('Key Non-Current Assets');\n",
        "axs[2].set_ylabel(\"In SGD Million\");"
      ],
      "execution_count": 47,
      "outputs": [
        {
          "output_type": "display_data",
          "data": {
            "image/png": "[encoded data removed]",
            "text/plain": [
              "<Figure size 1836x540 with 3 Axes>"
            ]
          },
          "metadata": {
            "tags": [],
            "needs_background": "light"
          }
        }
      ]
    }
  ]
}