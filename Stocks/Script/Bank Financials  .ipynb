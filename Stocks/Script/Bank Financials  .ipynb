{
 "cells": [
  {
   "cell_type": "code",
   "execution_count": 238,
   "metadata": {},
   "outputs": [],
   "source": [
    "%matplotlib inline\n",
    "import io\n",
    "from io import StringIO\n",
    "import pandas as pd\n",
    "import matplotlib.pyplot as plt\n",
    "from IPython.display import Javascript, display, HTML, Markdown as md\n",
    "from ipywidgets import interact, interactive, fixed, interact_manual\n",
    "import ipywidgets as widgets\n",
    "import json\n",
    "import requests\n",
    "import pandas as pd\n",
    "\n",
    "pd.set_option('display.float_format', lambda x: '%.3f' % x)"
   ]
  },
  {
   "cell_type": "code",
   "execution_count": 1,
   "metadata": {},
   "outputs": [],
   "source": [
    "banks = {\n",
    "        'DBS': {\n",
    "                'ticker': 'D05',\n",
    "                'morningstarID': '0P0000A67J'\n",
    "        },\n",
    "        'OCBC':  {\n",
    "                'ticker': 'O39',\n",
    "                'morningstarID': '0P0000A68H'\n",
    "        },\n",
    "        'UOB':{\n",
    "                'ticker': 'U11',\n",
    "                'morningstarID': '0P0000A692'\n",
    "        }\n",
    "}"
   ]
  },
  {
   "cell_type": "code",
   "execution_count": 2,
   "metadata": {},
   "outputs": [
    {
     "data": {
      "application/javascript": [
       "IPython.notebook.execute_cell_range(IPython.notebook.get_selected_index()+1, IPython.notebook.ncells())"
      ],
      "text/plain": [
       "<IPython.core.display.Javascript object>"
      ]
     },
     "metadata": {},
     "output_type": "display_data"
    },
    {
     "data": {
      "application/javascript": [
       "IPython.notebook.execute_cell_range(IPython.notebook.get_selected_index()+1, IPython.notebook.ncells())"
      ],
      "text/plain": [
       "<IPython.core.display.Javascript object>"
      ]
     },
     "metadata": {},
     "output_type": "display_data"
    },
    {
     "data": {
      "application/javascript": [
       "IPython.notebook.execute_cell_range(IPython.notebook.get_selected_index()+1, IPython.notebook.ncells())"
      ],
      "text/plain": [
       "<IPython.core.display.Javascript object>"
      ]
     },
     "metadata": {},
     "output_type": "display_data"
    },
    {
     "ename": "NameError",
     "evalue": "name 'widgets' is not defined",
     "output_type": "error",
     "traceback": [
      "\u001b[1;31m---------------------------------------------------------------------------\u001b[0m",
      "\u001b[1;31mNameError\u001b[0m                                 Traceback (most recent call last)",
      "\u001b[1;32m<ipython-input-2-bb5192d97b19>\u001b[0m in \u001b[0;36m<module>\u001b[1;34m\u001b[0m\n\u001b[1;32m----> 1\u001b[1;33m \u001b[0mdropdown\u001b[0m \u001b[1;33m=\u001b[0m \u001b[0mwidgets\u001b[0m\u001b[1;33m.\u001b[0m\u001b[0mDropdown\u001b[0m\u001b[1;33m(\u001b[0m\u001b[0moptions\u001b[0m \u001b[1;33m=\u001b[0m \u001b[0msorted\u001b[0m\u001b[1;33m(\u001b[0m\u001b[0mbanks\u001b[0m\u001b[1;33m.\u001b[0m\u001b[0mkeys\u001b[0m\u001b[1;33m(\u001b[0m\u001b[1;33m)\u001b[0m\u001b[1;33m)\u001b[0m\u001b[1;33m)\u001b[0m\u001b[1;33m\u001b[0m\u001b[0m\n\u001b[0m\u001b[0;32m      2\u001b[0m \u001b[0mchosen\u001b[0m \u001b[1;33m=\u001b[0m \u001b[1;34m'DBS'\u001b[0m\u001b[1;33m\u001b[0m\u001b[0m\n\u001b[0;32m      3\u001b[0m \u001b[1;33m\u001b[0m\u001b[0m\n\u001b[0;32m      4\u001b[0m \u001b[1;32mdef\u001b[0m \u001b[0mdropdown_eventhandler\u001b[0m\u001b[1;33m(\u001b[0m\u001b[0mchange\u001b[0m\u001b[1;33m)\u001b[0m\u001b[1;33m:\u001b[0m\u001b[1;33m\u001b[0m\u001b[0m\n\u001b[0;32m      5\u001b[0m     \u001b[1;32mglobal\u001b[0m \u001b[0mchosen\u001b[0m\u001b[1;33m\u001b[0m\u001b[0m\n",
      "\u001b[1;31mNameError\u001b[0m: name 'widgets' is not defined"
     ]
    }
   ],
   "source": [
    "dropdown = widgets.Dropdown(options = sorted(banks.keys()))\n",
    "chosen = 'DBS'\n",
    "\n",
    "def dropdown_eventhandler(change):\n",
    "    global chosen \n",
    "    chosen = change.new\n",
    "    display(Javascript('IPython.notebook.execute_cell_range(IPython.notebook.get_selected_index()+1, IPython.notebook.ncells())'))\n",
    "    \n",
    "dropdown.observe(dropdown_eventhandler, names='value')\n",
    "\n",
    "display(dropdown)\n"
   ]
  },
  {
   "cell_type": "code",
   "execution_count": null,
   "metadata": {},
   "outputs": [],
   "source": [
    "finUrl = 'https://api-global.morningstar.com/sal-service/v1/stock/newfinancials/{id}/{report}/detail?dataType=A&reportType=A&locale=en&&operation=export&clientId=MDC&benchmarkId=category&version=3.21.1'\n",
    "finHeaders = {\n",
    "    'Referer': 'https://www.morningstar.com/', \n",
    "    'apikey': 'lstzFDEOhfFNMLikKa0am9mgEKLBl49T', \n",
    "    'x-sal-contenttype': 'nNsGdN3REOnPMlKDShOYjlk6VYiEVLSdpfpXAm7o2Tk='\n",
    "}\n",
    "\n",
    "keyRatioUrl = 'http://financials.morningstar.com/finan/ajax/exportKR2CSV.html?&callback=?&t=XSES:{ticker}&region=sgp&culture=en-US&cur=&order=asc'\n",
    "keyRatioHeaders = {\n",
    "    'Referer': 'http://financials.morningstar.com/ratios/r.html?t=D05&region=sgp&culture=en-US'\n",
    "}\n",
    "\n",
    "def cleanData(df, roundDown = True):\n",
    "     # Remove whitespaces\n",
    "    df.index = df.index.str.strip()\n",
    "    # Transpose df to make metrics as columns\n",
    "    df = df.T\n",
    "    # Remove commas and convert str to float for all cols\n",
    "    df[df.keys()] = df[df.keys()].replace({',': ''}, regex=True).astype(float)\n",
    "    df = df/1000000 if roundDown else df\n",
    "    # Reorder the rows to be ascending downwards\n",
    "    df = df.sort_index()\n",
    "    return df\n",
    "\n",
    "def cleanKeyRatios(df):\n",
    "    df = df.fillna(0)\n",
    "    # Get names of indexes for which column '2010-12 has value '2010-12' or empty rows\n",
    "    indexNames = df[(df['2010-12'] == '2010-12') | (\n",
    "                    (df['2011-12'] == 0) &\n",
    "                    (df['2012-12'] == 0) &\n",
    "                    (df['2013-12'] == 0) &\n",
    "                    (df['2014-12'] == 0) &\n",
    "                    (df['2015-12'] == 0) &\n",
    "                    (df['2016-12'] == 0) &\n",
    "                    (df['2017-12'] == 0) &\n",
    "                    (df['2018-12'] == 0) &\n",
    "                    (df['2019-12'] == 0) &\n",
    "                    (df['TTM'] == 0) \n",
    "                    )].index\n",
    "    df = df.drop(indexNames , inplace=False)\n",
    "    df = df.rename(columns={'2010-12': '2010',\n",
    "                       '2011-12': '2011',\n",
    "                       '2012-12': '2012',\n",
    "                       '2013-12': '2013',\n",
    "                       '2014-12': '2014',\n",
    "                       '2015-12': '2015',\n",
    "                       '2016-12': '2016',\n",
    "                       '2017-12': '2017',\n",
    "                       '2018-12': '2018',\n",
    "                       '2019-12': '2019',\n",
    "                       'TTM': 'TTM/Latest Quarter',\n",
    "                      })\n",
    "    \n",
    "    return cleanData(df, False)\n",
    "    \n",
    "\n",
    "\n",
    "# Download finacial reports and clean up the data\n",
    "reports = {\n",
    "    'balancesheet': None,\n",
    "    'incomestatement': None,\n",
    "    'cashflow': None,\n",
    "}\n",
    "for types in reports.keys():\n",
    "    print('Downloading % s'%types)\n",
    "    response = requests.get(finUrl.format(id = banks[chosen]['morningstarID'], report = types), headers=finHeaders)\n",
    "    with io.BytesIO(response.content) as fh:\n",
    "        reports[types] = cleanData(pd.io.excel.read_excel(fh, index_col=0))\n",
    "    print('Done')\n",
    "\n",
    "        \n",
    "# Download key ratio data\n",
    "print('Downloading Key Ratios data')\n",
    "with open('keyratios.csv', 'wb') as f:\n",
    "    response = requests.get(keyRatioUrl.format(ticker = banks[chosen]['ticker']), headers=keyRatioHeaders)\n",
    "    f.write(response.content)\n",
    "\n",
    "keyratios = pd.read_csv('keyratios.csv', index_col=0, skiprows=2, header=0, na_values = '', skip_blank_lines=False )\n",
    "keyratios = cleanKeyRatios(keyratios)\n",
    "keyratios.to_csv('clean_keyratios.csv')\n",
    "\n",
    "print('Done')\n"
   ]
  },
  {
   "cell_type": "markdown",
   "metadata": {},
   "source": [
    "## Revenue VS Net Income "
   ]
  },
  {
   "cell_type": "code",
   "execution_count": null,
   "metadata": {},
   "outputs": [],
   "source": [
    "fig, axs = plt.subplots(1, 1)\n",
    "fig.set_size_inches(15.5, 7.5)\n",
    "\n",
    "reports[\"incomestatement\"][['Total Revenue', 'Pretax Income']].plot.bar(ax=axs)\n",
    "axs.set_title('Revenue VS Net Income');\n",
    "axs.set_ylabel(\"In SGD Million\");"
   ]
  },
  {
   "cell_type": "markdown",
   "metadata": {},
   "source": [
    "## Efficiency Ratio for Banks\n",
    "\n",
    "(Operating Expenses)/(Total Revenue)\n",
    "\n",
    "Note that Operating Expenses does not include Interest Expenses, as the latter is naturally occurring when the deposits within a bank grow. However, Non-Interest Expenses, such as marketing or operational expenses, can be controlled by the bank. \n",
    "A bank efficiency ratio measures a bank's overhead as a percentage of its revenue. A lower efficiency ratio means that a bank is operating better. An efficiency ratio of 50% or under is considered optimal. If the efficiency ratio increases, it means a bank's expenses are increasing or its revenues are decreasing.\n"
   ]
  },
  {
   "cell_type": "code",
   "execution_count": null,
   "metadata": {},
   "outputs": [],
   "source": [
    "effiencyRatio = (reports[\"incomestatement\"]['Non-Interest Expenses'].abs()/reports[\"incomestatement\"]['Total Revenue'])*100\n",
    "                                                                                                 \n",
    "fig, axs = plt.subplots(1, 1)\n",
    "fig.set_size_inches(15.5, 7.5)\n",
    "\n",
    "effiencyRatio.plot()\n",
    "axs.set_title('Efficiency Ratio for Banks');\n",
    "axs.set_ylabel(\"%\");                                                                                                 "
   ]
  },
  {
   "cell_type": "markdown",
   "metadata": {},
   "source": [
    "## Net Interest Margin"
   ]
  },
  {
   "cell_type": "code",
   "execution_count": null,
   "metadata": {},
   "outputs": [],
   "source": [
    "assets = reports['balancesheet']['Total Assets']\n",
    "assets.head(10)\n",
    "avgAssets = pd.Series([], dtype='float64')\n",
    "\n",
    "for i in range(assets.shape[0]):\n",
    "    if i == 0: \n",
    "        avgAssets[assets.index[i]] = (assets[i] + assets[0])/2 \n",
    "    else: \n",
    "        avgAssets[assets.index[i]] = (assets[i] + assets[i-1])/2\n",
    "netInteretMargin = reports['incomestatement']['Net Interest Income'] / avgAssets\n",
    "\n",
    "fig, axs = plt.subplots(1, 1)\n",
    "fig.set_size_inches(15.5, 7.5)\n",
    "\n",
    "netInteretMargin.plot()\n",
    "axs.set_title('Net Interest Margin');\n",
    "axs.set_ylabel(\"Ratio\");  "
   ]
  },
  {
   "cell_type": "code",
   "execution_count": null,
   "metadata": {},
   "outputs": [],
   "source": [
    "avgAssets"
   ]
  },
  {
   "cell_type": "code",
   "execution_count": null,
   "metadata": {},
   "outputs": [],
   "source": [
    "assets.shape[0]"
   ]
  },
  {
   "cell_type": "markdown",
   "metadata": {},
   "source": [
    "## Operating Leverage"
   ]
  },
  {
   "cell_type": "code",
   "execution_count": null,
   "metadata": {},
   "outputs": [],
   "source": [
    "# reports['balancesheet']"
   ]
  },
  {
   "cell_type": "code",
   "execution_count": null,
   "metadata": {},
   "outputs": [],
   "source": [
    "# reports['incomestatement']"
   ]
  },
  {
   "cell_type": "code",
   "execution_count": null,
   "metadata": {},
   "outputs": [],
   "source": [
    "# reports['cashflow']"
   ]
  },
  {
   "cell_type": "code",
   "execution_count": null,
   "metadata": {
    "scrolled": true
   },
   "outputs": [],
   "source": [
    "# keyRatios"
   ]
  },
  {
   "cell_type": "code",
   "execution_count": null,
   "metadata": {},
   "outputs": [],
   "source": [
    "for i in range(4):\n",
    "    print(i)"
   ]
  },
  {
   "cell_type": "code",
   "execution_count": null,
   "metadata": {},
   "outputs": [],
   "source": []
  }
 ],
 "metadata": {
  "kernelspec": {
   "display_name": "Python 3",
   "language": "python",
   "name": "python3"
  },
  "language_info": {
   "codemirror_mode": {
    "name": "ipython",
    "version": 3
   },
   "file_extension": ".py",
   "mimetype": "text/x-python",
   "name": "python",
   "nbconvert_exporter": "python",
   "pygments_lexer": "ipython3",
   "version": "3.6.1"
  }
 },
 "nbformat": 4,
 "nbformat_minor": 4
}
